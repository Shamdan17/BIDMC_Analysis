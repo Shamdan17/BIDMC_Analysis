{
 "cells": [
  {
   "cell_type": "code",
   "execution_count": 37,
   "metadata": {},
   "outputs": [
    {
     "name": "stdout",
     "output_type": "stream",
     "text": [
      "The autoreload extension is already loaded. To reload it, use:\n",
      "  %reload_ext autoreload\n"
     ]
    }
   ],
   "source": [
    "# Autoreload\n",
    "%load_ext autoreload\n",
    "%autoreload 2\n",
    "\n",
    "from src.dataset import read_bidmc_dataset, split_dataset_by_age, split_dataset_by_gender, split_datasets_to_windows\n",
    "\n",
    "dataset = read_bidmc_dataset()\n",
    "\n",
    "age_datasets, age_names = split_dataset_by_age(dataset)\n"
   ]
  },
  {
   "cell_type": "code",
   "execution_count": 38,
   "metadata": {},
   "outputs": [
    {
     "name": "stdout",
     "output_type": "stream",
     "text": [
      "[12, 6, 9, 15, 10]\n"
     ]
    }
   ],
   "source": [
    "print([len(x) for x in age_datasets])"
   ]
  },
  {
   "cell_type": "code",
   "execution_count": 39,
   "metadata": {},
   "outputs": [],
   "source": [
    "windowed_datasets = split_datasets_to_windows(age_datasets, window_size=30, window_stride=30)"
   ]
  },
  {
   "cell_type": "code",
   "execution_count": 65,
   "metadata": {},
   "outputs": [],
   "source": [
    "# We want a standardization followed by a butterworth filter for hr estimation\n",
    "from src.filters import get_default_filter_for_metric\n",
    "\n",
    "standardization_filter = get_default_filter_for_metric(\"standardize\", \"rr\")\n",
    "butterworth_filter = get_default_filter_for_metric(\"butterworth\", \"rr\")\n",
    "\n",
    "hr_filters = [standardization_filter, butterworth_filter]"
   ]
  },
  {
   "cell_type": "code",
   "execution_count": 66,
   "metadata": {},
   "outputs": [],
   "source": [
    "from src.predictors import get_detector\n",
    "\n",
    "hr_predictor = get_detector(\"peak\", \"rr\")"
   ]
  },
  {
   "cell_type": "code",
   "execution_count": 67,
   "metadata": {},
   "outputs": [],
   "source": [
    "from src.pipeline import Pipeline"
   ]
  },
  {
   "cell_type": "code",
   "execution_count": 68,
   "metadata": {},
   "outputs": [],
   "source": [
    "hr_pipeline = Pipeline(hr_filters, hr_predictor)"
   ]
  },
  {
   "cell_type": "code",
   "execution_count": 71,
   "metadata": {},
   "outputs": [
    {
     "name": "stdout",
     "output_type": "stream",
     "text": [
      "Ages 0-50\n",
      "+-------+-------+-------+\n",
      "|  MAE  |  RMSE |  MAPE |\n",
      "+-------+-------+-------+\n",
      "| 1.613 | 2.846 | 8.726 |\n",
      "+-------+-------+-------+\n",
      "Ages 50-60\n",
      "+-------+-------+-------+\n",
      "|  MAE  |  RMSE |  MAPE |\n",
      "+-------+-------+-------+\n",
      "| 1.169 | 1.722 | 6.648 |\n",
      "+-------+-------+-------+\n",
      "Ages 60-70\n",
      "+-------+-------+-------+\n",
      "|  MAE  |  RMSE |  MAPE |\n",
      "+-------+-------+-------+\n",
      "| 1.226 | 1.787 | 6.726 |\n",
      "+-------+-------+-------+\n",
      "Ages 70-80\n",
      "+-------+-------+-------+\n",
      "|  MAE  |  RMSE |  MAPE |\n",
      "+-------+-------+-------+\n",
      "| 1.851 | 3.144 | 10.504|\n",
      "+-------+-------+-------+\n",
      "Ages 80-100\n",
      "+-------+-------+-------+\n",
      "|  MAE  |  RMSE |  MAPE |\n",
      "+-------+-------+-------+\n",
      "| 1.686 | 2.493 | 9.234 |\n",
      "+-------+-------+-------+\n"
     ]
    }
   ],
   "source": [
    "for windowed_dataset, age_group in zip(windowed_datasets, age_names):\n",
    "    print(age_group)    \n",
    "    gts = []\n",
    "    preds = []\n",
    "    for window in windowed_dataset:\n",
    "        gt_hr = window[\"rr\"]\n",
    "        pred_hr = hr_pipeline(window['ppg'])\n",
    "        gts.append(gt_hr)\n",
    "        preds.append(pred_hr)\n",
    "\n",
    "    from metrics import metrics_table\n",
    "\n",
    "    print(metrics_table(gts, preds))"
   ]
  },
  {
   "cell_type": "code",
   "execution_count": 63,
   "metadata": {},
   "outputs": [],
   "source": []
  },
  {
   "cell_type": "code",
   "execution_count": 64,
   "metadata": {},
   "outputs": [
    {
     "data": {
      "text/plain": [
       "array([-68.662002  , -68.55578121, -70.10937672, -73.41571299,\n",
       "       -70.20898371, -69.98742731, -69.99311741, -69.78405398,\n",
       "       -70.47298151, -70.79888228, -70.44489947, -70.72356866,\n",
       "       -70.49253951, -71.51644737, -68.85982437, -69.64288852,\n",
       "       -67.38840821, -66.02299601, -63.29829364, -57.52941176,\n",
       "       -63.29727891, -61.67195839, -60.29590186, -58.88953393,\n",
       "       -60.02620809, -62.28776509, -62.50289855, -67.104662  ,\n",
       "       -61.91680232, -61.42941176, -58.61082559, -82.72049336,\n",
       "       -81.39453581, -73.77042087, -74.70988404, -79.30434117,\n",
       "       -74.46022099, -74.92515689, -76.91751963, -79.55414607,\n",
       "       -78.89739555, -83.34473258, -82.99264305, -79.68997217,\n",
       "       -82.34789483, -81.61169717, -81.71034483, -76.38768411,\n",
       "       -72.75848559, -82.82760033, -73.78466886, -75.19182356,\n",
       "       -78.90628282, -73.54525466, -73.02880681, -70.24429224,\n",
       "       -78.50392958, -74.72700559, -78.2986755 , -80.76989943,\n",
       "       -69.84655031, -74.07196785, -77.19899212, -58.1129887 ,\n",
       "       -56.16655809, -56.72343806, -56.3403782 , -56.36883117,\n",
       "       -56.55570628, -56.18147532, -56.27823572, -56.47910448,\n",
       "       -57.00394381, -56.19232049, -55.85100207, -58.62551953,\n",
       "       -56.75100207, -57.25      , -56.53414097, -72.10288568,\n",
       "       -65.52735978, -65.34611081, -65.10300081, -63.87438558,\n",
       "       -68.27990868, -79.02004282, -67.73196385, -70.46862745,\n",
       "       -67.78746594, -68.2543514 , -71.8153019 , -71.84123879,\n",
       "       -70.91738854, -67.51118778, -77.83387053, -83.35918367,\n",
       "       -60.07768795, -60.42420977, -59.89353234, -59.55954143,\n",
       "       -61.09742334, -58.77605953, -60.52181917, -63.05140068,\n",
       "       -61.73067341, -62.74011863, -63.18283828, -61.32702703,\n",
       "       -63.67085169, -63.99054685, -62.94823239, -66.92899581,\n",
       "       -67.43163097, -66.90401606, -66.06232914, -65.8749977 ,\n",
       "       -66.30976358, -66.08531583, -66.3523641 , -66.44923505,\n",
       "       -66.10810811, -66.78746594, -66.53708231, -66.91242938,\n",
       "       -65.91019161, -66.65070729, -66.61864917, -74.59600289,\n",
       "       -74.40530118, -74.56266956, -74.43807149, -74.01941748,\n",
       "       -73.9423592 , -73.65269944, -73.87426103, -73.15238095,\n",
       "       -73.77971014, -70.11283186, -74.10683829, -71.8147541 ,\n",
       "       -71.86120964, -71.24236786, -70.7746952 , -74.01898574,\n",
       "       -70.73374942, -74.83259876, -73.6320442 , -78.06592209,\n",
       "       -74.54688645, -73.79119804, -75.88403909, -74.71487514,\n",
       "       -76.02642002, -71.96258206, -78.57780802, -71.97865353,\n",
       "       -75.9841863 , -77.56302251, -76.71790907])"
      ]
     },
     "execution_count": 64,
     "metadata": {},
     "output_type": "execute_result"
    }
   ],
   "source": []
  },
  {
   "cell_type": "code",
   "execution_count": 52,
   "metadata": {},
   "outputs": [],
   "source": [
    "from matplotlib import pyplot as plt\n"
   ]
  },
  {
   "cell_type": "code",
   "execution_count": 53,
   "metadata": {},
   "outputs": [
    {
     "data": {
      "text/plain": [
       "(array([ 1.,  2.,  1.,  3.,  0.,  0.,  1.,  1.,  0.,  2.,  0.,  0.,  1.,\n",
       "         0.,  0.,  0.,  0.,  0.,  1.,  0.,  1.,  0.,  3.,  4.,  0.,  4.,\n",
       "         1.,  0.,  1.,  1.,  0.,  0.,  0.,  0.,  2.,  0.,  0.,  1.,  0.,\n",
       "         0.,  0.,  0.,  0.,  0.,  0.,  0.,  0.,  1.,  0.,  0.,  0.,  0.,\n",
       "         0.,  0.,  0.,  0.,  0.,  0.,  0.,  0.,  0.,  0.,  0.,  0.,  0.,\n",
       "         0.,  0.,  0.,  0.,  0.,  0.,  0.,  0.,  0.,  0.,  0.,  0.,  0.,\n",
       "         0.,  0.,  1.,  0.,  0.,  0.,  0.,  0.,  0.,  2.,  4.,  1.,  8.,\n",
       "        12., 43., 69.,  7.,  6.,  1.,  2.,  1.,  1.]),\n",
       " array([-8.35528986e+01, -8.26551492e+01, -8.17573998e+01, -8.08596504e+01,\n",
       "        -7.99619010e+01, -7.90641517e+01, -7.81664023e+01, -7.72686529e+01,\n",
       "        -7.63709035e+01, -7.54731542e+01, -7.45754048e+01, -7.36776554e+01,\n",
       "        -7.27799060e+01, -7.18821567e+01, -7.09844073e+01, -7.00866579e+01,\n",
       "        -6.91889085e+01, -6.82911592e+01, -6.73934098e+01, -6.64956604e+01,\n",
       "        -6.55979110e+01, -6.47001617e+01, -6.38024123e+01, -6.29046629e+01,\n",
       "        -6.20069135e+01, -6.11091642e+01, -6.02114148e+01, -5.93136654e+01,\n",
       "        -5.84159160e+01, -5.75181667e+01, -5.66204173e+01, -5.57226679e+01,\n",
       "        -5.48249185e+01, -5.39271692e+01, -5.30294198e+01, -5.21316704e+01,\n",
       "        -5.12339210e+01, -5.03361716e+01, -4.94384223e+01, -4.85406729e+01,\n",
       "        -4.76429235e+01, -4.67451741e+01, -4.58474248e+01, -4.49496754e+01,\n",
       "        -4.40519260e+01, -4.31541766e+01, -4.22564273e+01, -4.13586779e+01,\n",
       "        -4.04609285e+01, -3.95631791e+01, -3.86654298e+01, -3.77676804e+01,\n",
       "        -3.68699310e+01, -3.59721816e+01, -3.50744323e+01, -3.41766829e+01,\n",
       "        -3.32789335e+01, -3.23811841e+01, -3.14834348e+01, -3.05856854e+01,\n",
       "        -2.96879360e+01, -2.87901866e+01, -2.78924373e+01, -2.69946879e+01,\n",
       "        -2.60969385e+01, -2.51991891e+01, -2.43014398e+01, -2.34036904e+01,\n",
       "        -2.25059410e+01, -2.16081916e+01, -2.07104423e+01, -1.98126929e+01,\n",
       "        -1.89149435e+01, -1.80171941e+01, -1.71194447e+01, -1.62216954e+01,\n",
       "        -1.53239460e+01, -1.44261966e+01, -1.35284472e+01, -1.26306979e+01,\n",
       "        -1.17329485e+01, -1.08351991e+01, -9.93744974e+00, -9.03970037e+00,\n",
       "        -8.14195099e+00, -7.24420161e+00, -6.34645224e+00, -5.44870286e+00,\n",
       "        -4.55095349e+00, -3.65320411e+00, -2.75545474e+00, -1.85770536e+00,\n",
       "        -9.59955984e-01, -6.22066084e-02,  8.35542767e-01,  1.73329214e+00,\n",
       "         2.63104152e+00,  3.52879089e+00,  4.42654027e+00,  5.32428965e+00,\n",
       "         6.22203902e+00]),\n",
       " <BarContainer object of 100 artists>)"
      ]
     },
     "execution_count": 53,
     "metadata": {},
     "output_type": "execute_result"
    },
    {
     "data": {
      "image/png": "[encoded data removed]",
      "text/plain": [
       "<Figure size 640x480 with 1 Axes>"
      ]
     },
     "metadata": {},
     "output_type": "display_data"
    }
   ],
   "source": [
    "plt.hist(diffs, bins=100)"
   ]
  },
  {
   "cell_type": "code",
   "execution_count": null,
   "metadata": {},
   "outputs": [],
   "source": []
  },
  {
   "cell_type": "code",
   "execution_count": null,
   "metadata": {},
   "outputs": [],
   "source": []
  }
 ],
 "metadata": {
  "kernelspec": {
   "display_name": "pt2",
   "language": "python",
   "name": "python3"
  },
  "language_info": {
   "codemirror_mode": {
    "name": "ipython",
    "version": 3
   },
   "file_extension": ".py",
   "mimetype": "text/x-python",
   "name": "python",
   "nbconvert_exporter": "python",
   "pygments_lexer": "ipython3",
   "version": "3.10.12"
  },
  "orig_nbformat": 4
 },
 "nbformat": 4,
 "nbformat_minor": 2
}
