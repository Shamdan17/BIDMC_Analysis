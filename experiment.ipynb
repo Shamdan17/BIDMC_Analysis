{
 "cells": [
  {
   "cell_type": "code",
   "execution_count": 5,
   "metadata": {},
   "outputs": [
    {
     "name": "stdout",
     "output_type": "stream",
     "text": [
      "The autoreload extension is already loaded. To reload it, use:\n",
      "  %reload_ext autoreload\n"
     ]
    }
   ],
   "source": [
    "# Autoreload\n",
    "%load_ext autoreload\n",
    "%autoreload 2\n",
    "\n",
    "from src.dataset import read_bidmc_dataset, split_dataset_by_age, split_dataset_by_gender, split_datasets_to_windows\n",
    "from src.metrics import metrics_table\n",
    "from src.predictors import get_detector\n",
    "from src.pipeline import Pipeline\n",
    "\n",
    "dataset = read_bidmc_dataset()"
   ]
  },
  {
   "cell_type": "code",
   "execution_count": 9,
   "metadata": {},
   "outputs": [
    {
     "name": "stdout",
     "output_type": "stream",
     "text": [
      "20\n",
      "12\n"
     ]
    }
   ],
   "source": [
    "# We want a standardization followed by a butterworth filter for hr estimation\n",
    "from src.filters import get_default_filter_for_metric\n",
    "\n",
    "dataset_splits = [\"gender\", \"age\"]\n",
    "smoothing_filter_names = [\"moving_average\", \"median\", None]\n",
    "bandpass_filter_names = [\"bessel\", \"butterworth\", \"chebyshev\", \"chebyshev2\", \"elliptic\"]\n",
    "detector_names = [\"peak\", \"zcr\", \"mcr\", \"spectral\"]\n",
    "rate_names = [\"hr\", \"rr\"]\n",
    "metrics = [\"mae\", \"rmse\", \"mape\"]\n",
    "\n",
    "standardization_filter = get_default_filter_for_metric(\"standardize\", \"hr\")\n",
    "\n",
    "for dataset_split in dataset_splits:\n",
    "    splits, split_names = split_dataset_by_age(dataset) if dataset_split == \"age\" else split_dataset_by_gender(dataset)\n",
    "    print(len(splits[0]))\n",
    "    windowed_datasets = split_datasets_to_windows(splits, window_size=30, window_stride=30)\n",
    "    \n",
    "    for rate_name in rate_names:\n",
    "        f = open(f\"{dataset_split}_{rate_name}.tsv\", \"w+\")\n",
    "        f.write(\"Bandpass\\tDetector\\tSmoothing\\tSplit Name\\tMAE\\tRMSE\\tMAPE\\n\")\n",
    "        \n",
    "        for detector_name in detector_names:\n",
    "            for smoothing_filter_name in smoothing_filter_names:\n",
    "                for bandpass_filter_name in bandpass_filter_names:\n",
    "                    bandpass_filter = get_default_filter_for_metric(bandpass_filter_name, rate_name)\n",
    "                    if smoothing_filter_name is None:\n",
    "                        filters = [standardization_filter, bandpass_filter]\n",
    "                    else:\n",
    "                        smoothing_filter = get_default_filter_for_metric(smoothing_filter_name, rate_name)\n",
    "                        filters = [standardization_filter, smoothing_filter, bandpass_filter]\n",
    "            \n",
    "                    predictor = get_detector(detector_name, rate_name)\n",
    "                    pipeline = Pipeline(filters, predictor)\n",
    "    \n",
    "                    for windowed_dataset, split_name in zip(windowed_datasets, split_names):\n",
    "                        gts = []\n",
    "                        preds = []\n",
    "                        for window in windowed_dataset:\n",
    "                            gt = window[rate_name]\n",
    "                            pred = pipeline(window['ppg'])\n",
    "                            gts.append(gt)\n",
    "                            preds.append(pred)\n",
    "    \n",
    "                        table, scores = metrics_table(gts, preds, return_scores=True)\n",
    "                        f.write(f\"{bandpass_filter_name}\\t{detector_name}\\t{smoothing_filter_name}\\t{split_name}\\t{scores['MAE']}\\t{scores['RMSE']}\\t{scores['MAPE']}\\n\")\n",
    "\n",
    "        f.close()"
   ]
  },
  {
   "cell_type": "code",
   "execution_count": null,
   "metadata": {},
   "outputs": [],
   "source": []
  }
 ],
 "metadata": {
  "kernelspec": {
   "display_name": "Python 3 (ipykernel)",
   "language": "python",
   "name": "python3"
  },
  "language_info": {
   "codemirror_mode": {
    "name": "ipython",
    "version": 3
   },
   "file_extension": ".py",
   "mimetype": "text/x-python",
   "name": "python",
   "nbconvert_exporter": "python",
   "pygments_lexer": "ipython3",
   "version": "3.11.5"
  }
 },
 "nbformat": 4,
 "nbformat_minor": 4
}
